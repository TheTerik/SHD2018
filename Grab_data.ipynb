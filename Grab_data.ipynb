{
 "cells": [
  {
   "cell_type": "code",
   "execution_count": 1,
   "metadata": {},
   "outputs": [],
   "source": [
    "import os\n",
    "import glob\n",
    "import pandas as pd\n",
    "import matplotlib.pyplot as plt\n",
    "import numpy as np\n",
    "import imutils\n",
    "import cv2\n",
    "from datetime import datetime\n",
    "from os.path import join\n",
    "from SHD_functions import test, find_circles, crop_image, get_colors, find_PH"
   ]
  },
  {
   "cell_type": "code",
   "execution_count": 2,
   "metadata": {},
   "outputs": [],
   "source": [
    "# Assign data types for import\n",
    "jpg = 'jpg'\n",
    "\n",
    "# Create list of files\n",
    "path = 'Data'\n",
    "os.chdir(path)\n",
    "files = [i for i in glob.glob('*.{}'.format(jpg))]\n",
    "os.chdir('..')"
   ]
  },
  {
   "cell_type": "code",
   "execution_count": 3,
   "metadata": {},
   "outputs": [],
   "source": [
    "def get_datetimes(files):\n",
    "    dates = []\n",
    "    for file in files:\n",
    "        dates.append(datetime.strptime(file[4:-4], '%Y%m%d_%H%M%S'))\n",
    "    return pd.Series(dates)"
   ]
  },
  {
   "cell_type": "code",
   "execution_count": 4,
   "metadata": {},
   "outputs": [
    {
     "data": {
      "text/plain": [
       "0   2018-11-03 10:18:43\n",
       "1   2018-11-03 10:19:07\n",
       "2   2018-11-03 10:19:42\n",
       "3   2018-11-03 10:20:06\n",
       "4   2018-11-03 10:20:30\n",
       "5   2018-11-03 10:20:51\n",
       "6   2018-11-03 10:22:21\n",
       "dtype: datetime64[ns]"
      ]
     },
     "execution_count": 4,
     "metadata": {},
     "output_type": "execute_result"
    }
   ],
   "source": [
    "datetimes = get_datetimes(files)\n",
    "datetimes"
   ]
  },
  {
   "cell_type": "code",
   "execution_count": 10,
   "metadata": {},
   "outputs": [],
   "source": [
    "def get_pHs(files):\n",
    "    pHs = []\n",
    "    i = 1\n",
    "    for file in files:\n",
    "        print(file)\n",
    "        image = imutils.resize(cv2.imread(join(path, file)), width=1024)\n",
    "        circles = find_circles(image)\n",
    "        cropped = crop_image(image, circles)  \n",
    "        scale = get_colors(cropped, range(100, 600, 75), [200, 270, 380, 460])\n",
    "        measurement = get_colors(cropped, [800], [200, 270])\n",
    "        pH = find_PH(scale, measurement)\n",
    "        pHs.append(pH)\n",
    "    return pd.Series(pHs)"
   ]
  },
  {
   "cell_type": "code",
   "execution_count": 11,
   "metadata": {},
   "outputs": [
    {
     "name": "stdout",
     "output_type": "stream",
     "text": [
      "IMG_20181103_101843.jpg\n",
      "(1, 4, 3)\n",
      "IMG_20181103_101907.jpg\n",
      "(1, 4, 3)\n",
      "IMG_20181103_101942.jpg\n",
      "(1, 4, 3)\n",
      "IMG_20181103_102006.jpg\n",
      "(1, 4, 3)\n",
      "IMG_20181103_102030.jpg\n",
      "(1, 4, 3)\n",
      "IMG_20181103_102051.jpg\n",
      "(1, 4, 3)\n",
      "IMG_20181103_102221.jpg\n",
      "(1, 4, 3)\n"
     ]
    },
    {
     "data": {
      "text/plain": [
       "0    5.50\n",
       "1    5.50\n",
       "2    7.50\n",
       "3    5.50\n",
       "4    5.50\n",
       "5    6.25\n",
       "6    8.00\n",
       "dtype: float64"
      ]
     },
     "execution_count": 11,
     "metadata": {},
     "output_type": "execute_result"
    }
   ],
   "source": [
    "pHs = get_pHs(files)\n",
    "pHs"
   ]
  },
  {
   "cell_type": "code",
   "execution_count": 12,
   "metadata": {},
   "outputs": [],
   "source": [
    "df = pd.DataFrame({'Date':datetimes, 'pH':pHs})"
   ]
  },
  {
   "cell_type": "code",
   "execution_count": 13,
   "metadata": {},
   "outputs": [],
   "source": [
    "df = df.set_index('Date')"
   ]
  },
  {
   "cell_type": "code",
   "execution_count": 14,
   "metadata": {},
   "outputs": [
    {
     "data": {
      "text/plain": [
       "<matplotlib.axes._subplots.AxesSubplot at 0x258007e5320>"
      ]
     },
     "execution_count": 14,
     "metadata": {},
     "output_type": "execute_result"
    },
    {
     "data": {
      "image/png": "[encoded data removed]",
      "text/plain": [
       "<Figure size 432x288 with 1 Axes>"
      ]
     },
     "metadata": {
      "needs_background": "light"
     },
     "output_type": "display_data"
    }
   ],
   "source": [
    "df.plot()"
   ]
  },
  {
   "cell_type": "code",
   "execution_count": null,
   "metadata": {},
   "outputs": [],
   "source": []
  }
 ],
 "metadata": {
  "kernelspec": {
   "display_name": "Python 3",
   "language": "python",
   "name": "python3"
  },
  "language_info": {
   "codemirror_mode": {
    "name": "ipython",
    "version": 3
   },
   "file_extension": ".py",
   "mimetype": "text/x-python",
   "name": "python",
   "nbconvert_exporter": "python",
   "pygments_lexer": "ipython3",
   "version": "3.6.6"
  }
 },
 "nbformat": 4,
 "nbformat_minor": 2
}
