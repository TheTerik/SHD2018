{
 "cells": [
  {
   "cell_type": "code",
   "execution_count": 2,
   "metadata": {},
   "outputs": [],
   "source": [
    "import os\n",
    "import glob\n",
    "import pandas as pd\n",
    "import matplotlib.pyplot as plt\n",
    "import numpy as np"
   ]
  },
  {
   "cell_type": "code",
   "execution_count": 3,
   "metadata": {},
   "outputs": [],
   "source": [
    "# Filepath ('.' = current directory)\n",
    "path = 'Data'\n",
    "os.chdir(path)"
   ]
  },
  {
   "cell_type": "code",
   "execution_count": 4,
   "metadata": {},
   "outputs": [],
   "source": [
    "# Assign data types for import\n",
    "jpg = 'jpg'\n",
    "\n",
    "# Create list of files\n",
    "files = [i for i in glob.glob('*.{}'.format(jpg))]"
   ]
  },
  {
   "cell_type": "code",
   "execution_count": 5,
   "metadata": {},
   "outputs": [],
   "source": [
    "array = [[[174,156,109],\n",
    "        [ 19,37,154],\n",
    "        [38,98,14],\n",
    "        [7,176,184]]]"
   ]
  },
  {
   "cell_type": "code",
   "execution_count": 6,
   "metadata": {},
   "outputs": [],
   "source": [
    "new_array = np.array(array)"
   ]
  },
  {
   "cell_type": "code",
   "execution_count": 7,
   "metadata": {},
   "outputs": [],
   "source": [
    "yellow = [255,255,0]\n",
    "blue = [65,105,225]\n",
    "green = [50,205,50]\n",
    "red = [255,0,0]"
   ]
  },
  {
   "cell_type": "code",
   "execution_count": 8,
   "metadata": {},
   "outputs": [],
   "source": [
    "templ = [[yellow,\n",
    "         blue,\n",
    "         green,\n",
    "         red]]"
   ]
  },
  {
   "cell_type": "code",
   "execution_count": 9,
   "metadata": {},
   "outputs": [
    {
     "data": {
      "text/plain": [
       "<matplotlib.image.AxesImage at 0x24f7e6a4908>"
      ]
     },
     "execution_count": 9,
     "metadata": {},
     "output_type": "execute_result"
    },
    {
     "data": {
      "image/png": "[encoded data removed]",
      "text/plain": [
       "<Figure size 432x288 with 1 Axes>"
      ]
     },
     "metadata": {
      "needs_background": "light"
     },
     "output_type": "display_data"
    }
   ],
   "source": [
    "plt.imshow(templ)"
   ]
  },
  {
   "cell_type": "code",
   "execution_count": 10,
   "metadata": {},
   "outputs": [],
   "source": [
    "photo = [[109,156,174],\n",
    "            [154,37,19],\n",
    "            [14,98,19],\n",
    "            [184,176,7]]"
   ]
  },
  {
   "cell_type": "code",
   "execution_count": 11,
   "metadata": {},
   "outputs": [
    {
     "data": {
      "text/plain": [
       "<matplotlib.image.AxesImage at 0x24f7e742828>"
      ]
     },
     "execution_count": 11,
     "metadata": {},
     "output_type": "execute_result"
    },
    {
     "data": {
      "image/png": "[encoded data removed]",
      "text/plain": [
       "<Figure size 432x288 with 1 Axes>"
      ]
     },
     "metadata": {
      "needs_background": "light"
     },
     "output_type": "display_data"
    }
   ],
   "source": [
    "plt.imshow([photo])"
   ]
  },
  {
   "cell_type": "code",
   "execution_count": 12,
   "metadata": {},
   "outputs": [],
   "source": [
    "scale = [[[166, 67, 33], [170, 89, 33], [177, 111, 33], [177, 127, 38], [183, 149, 43], [176, 146, 34], [180, 162, 36]], [[185, 180, 27], [180, 177, 24], [176, 176, 28], [162, 166, 29], [150, 159, 29], [151, 158, 29], [131, 140, 31]], [[172, 165, 31], [151, 139, 27], [139, 132, 27], [109, 113, 37], [98, 110, 45], [34, 65, 33], [57, 72, 65]], [[136, 154, 44], [115, 136, 41], [94, 126, 42], [79, 111, 38], [60, 89, 41], [29, 70, 36], [35, 46, 50]]]"
   ]
  },
  {
   "cell_type": "code",
   "execution_count": 13,
   "metadata": {},
   "outputs": [],
   "source": [
    "measurement = [[[94, 116, 35], [86, 111, 24]]]"
   ]
  },
  {
   "cell_type": "code",
   "execution_count": 14,
   "metadata": {},
   "outputs": [],
   "source": [
    "def scale_shape(array):\n",
    "    np_scale = np.array(array)\n",
    "    scale_1 = np.append(np_scale[0], np_scale[2]).reshape(1,14,3)\n",
    "    scale_2 = np.append(np_scale[1], np_scale[3]).reshape(1,14,3)\n",
    "    return scale_1, scale_2"
   ]
  },
  {
   "cell_type": "code",
   "execution_count": 15,
   "metadata": {},
   "outputs": [],
   "source": [
    "def measurement_shape(measurement):\n",
    "    np_measurement = np.array(measurement)\n",
    "    measurement_1 = np.array(np_measurement[0][0])\n",
    "    measurement_2 = np.array(np_measurement[0][1])\n",
    "    return measurement_1, measurement_2"
   ]
  },
  {
   "cell_type": "code",
   "execution_count": 16,
   "metadata": {},
   "outputs": [],
   "source": [
    "def calculate_distance(scale_1, scale_2, measurement_1, measurement_2):\n",
    "    scale_1_dist = np.abs(scale_1 - measurement_1)\n",
    "    scale_2_dist = np.abs(scale_2 - measurement_2)\n",
    "    s1_dist_sum = [np.sum(x) for x in scale_1_dist[0]]\n",
    "    s2_dist_sum = [np.sum(x) for x in scale_2_dist[0]]\n",
    "    return s1_dist_sum, s2_dist_sum"
   ]
  },
  {
   "cell_type": "code",
   "execution_count": 24,
   "metadata": {},
   "outputs": [],
   "source": [
    "def give_result(scale, measurement):\n",
    "    np_scale = np.array(scale)\n",
    "    scale_1 = np.append(np_scale[0], np_scale[2]).reshape(1,14,3)\n",
    "    scale_2 = np.append(np_scale[1], np_scale[3]).reshape(1,14,3)\n",
    "    np_measurement = np.array(measurement)\n",
    "    measurement_1 = np.array(np_measurement[0][0])\n",
    "    measurement_2 = np.array(np_measurement[0][1])\n",
    "    scale_1_dist = np.abs(scale_1 - measurement_1)\n",
    "    scale_2_dist = np.abs(scale_2 - measurement_2)\n",
    "    s1_dist_sum = [np.sum(x) for x in scale_1_dist[0]]\n",
    "    s2_dist_sum = [np.sum(x) for x in scale_2_dist[0]]\n",
    "    df= pd.DataFrame()\n",
    "    df['Measurement_1'] = s1_dist_sum\n",
    "    df['Measurement_2'] = s2_dist_sum\n",
    "    df['Measurement_sum'] = df['Measurement_1'] + df['Measurement_2'] \n",
    "    df['pH'] = [4.5, 5.0, 5.5, 5.75, 6.0, 6.25, 6.5, 6.75, 7.0, 7.25, 7.5, 8.0, 8.5, 9.0]\n",
    "    value = df.loc[df['Measurement_sum'] == df['Measurement_sum'].min(), 'pH'].iloc[0]\n",
    "    return value"
   ]
  },
  {
   "cell_type": "code",
   "execution_count": 25,
   "metadata": {},
   "outputs": [],
   "source": [
    "result = give_result(scale, measurement)"
   ]
  },
  {
   "cell_type": "code",
   "execution_count": 26,
   "metadata": {},
   "outputs": [
    {
     "data": {
      "text/plain": [
       "7.5"
      ]
     },
     "execution_count": 26,
     "metadata": {},
     "output_type": "execute_result"
    }
   ],
   "source": [
    "result"
   ]
  },
  {
   "cell_type": "code",
   "execution_count": 29,
   "metadata": {},
   "outputs": [
    {
     "data": {
      "text/plain": [
       "(1, 2, 3)"
      ]
     },
     "execution_count": 29,
     "metadata": {},
     "output_type": "execute_result"
    }
   ],
   "source": [
    "np.array(measurement).shape"
   ]
  },
  {
   "cell_type": "code",
   "execution_count": null,
   "metadata": {},
   "outputs": [],
   "source": []
  }
 ],
 "metadata": {
  "kernelspec": {
   "display_name": "Python 3",
   "language": "python",
   "name": "python3"
  },
  "language_info": {
   "codemirror_mode": {
    "name": "ipython",
    "version": 3
   },
   "file_extension": ".py",
   "mimetype": "text/x-python",
   "name": "python",
   "nbconvert_exporter": "python",
   "pygments_lexer": "ipython3",
   "version": "3.6.6"
  }
 },
 "nbformat": 4,
 "nbformat_minor": 2
}
